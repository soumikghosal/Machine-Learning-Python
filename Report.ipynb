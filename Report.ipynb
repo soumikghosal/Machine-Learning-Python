{
 "cells": [
  {
   "cell_type": "code",
   "execution_count": 1,
   "metadata": {
    "collapsed": true
   },
   "outputs": [],
   "source": [
    "import pandasql as pdsql\n",
    "import pandas as pd"
   ]
  },
  {
   "cell_type": "code",
   "execution_count": 2,
   "metadata": {
    "collapsed": false
   },
   "outputs": [
    {
     "data": {
      "text/html": [
       "<div>\n",
       "<table border=\"1\" class=\"dataframe\">\n",
       "  <thead>\n",
       "    <tr style=\"text-align: right;\">\n",
       "      <th></th>\n",
       "      <th>id</th>\n",
       "      <th>name</th>\n",
       "      <th>entity_type</th>\n",
       "      <th>logo</th>\n",
       "      <th>address</th>\n",
       "      <th>contact_person_email</th>\n",
       "      <th>contact_person_mobile</th>\n",
       "      <th>creator</th>\n",
       "      <th>created_at</th>\n",
       "      <th>updated_at</th>\n",
       "    </tr>\n",
       "  </thead>\n",
       "  <tbody>\n",
       "    <tr>\n",
       "      <th>0</th>\n",
       "      <td>1</td>\n",
       "      <td>Growthfile</td>\n",
       "      <td>proprietorship</td>\n",
       "      <td>http://lorempixel.com/500/500/?37735</td>\n",
       "      <td>NaN</td>\n",
       "      <td>pujacapital@gmail.com</td>\n",
       "      <td>NaN</td>\n",
       "      <td>NaN</td>\n",
       "      <td>2017-02-28 00:20:10</td>\n",
       "      <td>2017-02-28 00:20:10</td>\n",
       "    </tr>\n",
       "    <tr>\n",
       "      <th>1</th>\n",
       "      <td>2</td>\n",
       "      <td>Simplifii Labs</td>\n",
       "      <td>NaN</td>\n",
       "      <td>NaN</td>\n",
       "      <td>ghkjhbj</td>\n",
       "      <td>chandresh989@gmail.com</td>\n",
       "      <td>7.576779e+09</td>\n",
       "      <td>NaN</td>\n",
       "      <td>2017-02-28 00:32:02</td>\n",
       "      <td>2017-03-28 17:55:02</td>\n",
       "    </tr>\n",
       "    <tr>\n",
       "      <th>2</th>\n",
       "      <td>3</td>\n",
       "      <td>Puja Capital</td>\n",
       "      <td>NaN</td>\n",
       "      <td>NaN</td>\n",
       "      <td>D 90, First Floor, Saket 110017</td>\n",
       "      <td>kiran.murthi@gmail.com</td>\n",
       "      <td>9.811580e+09</td>\n",
       "      <td>NaN</td>\n",
       "      <td>2017-02-28 01:09:17</td>\n",
       "      <td>2017-02-28 07:14:28</td>\n",
       "    </tr>\n",
       "    <tr>\n",
       "      <th>3</th>\n",
       "      <td>4</td>\n",
       "      <td>org name</td>\n",
       "      <td>NaN</td>\n",
       "      <td>NaN</td>\n",
       "      <td>NaN</td>\n",
       "      <td>mxsingh15+4@gmail.com</td>\n",
       "      <td>NaN</td>\n",
       "      <td>NaN</td>\n",
       "      <td>2017-03-14 15:56:38</td>\n",
       "      <td>2017-03-14 15:56:38</td>\n",
       "    </tr>\n",
       "    <tr>\n",
       "      <th>4</th>\n",
       "      <td>5</td>\n",
       "      <td>Avon Beauty Products Pvt Ltd</td>\n",
       "      <td>NaN</td>\n",
       "      <td>NaN</td>\n",
       "      <td>NaN</td>\n",
       "      <td>divya.paul@avon.com</td>\n",
       "      <td>9.717168e+09</td>\n",
       "      <td>NaN</td>\n",
       "      <td>2017-03-14 19:15:08</td>\n",
       "      <td>2017-03-14 19:15:08</td>\n",
       "    </tr>\n",
       "    <tr>\n",
       "      <th>5</th>\n",
       "      <td>6</td>\n",
       "      <td>Tax Sutra</td>\n",
       "      <td>NaN</td>\n",
       "      <td>NaN</td>\n",
       "      <td>NaN</td>\n",
       "      <td>kalpana.j@taxsutra.com</td>\n",
       "      <td>9.820047e+09</td>\n",
       "      <td>NaN</td>\n",
       "      <td>2017-03-17 11:17:56</td>\n",
       "      <td>2017-03-17 11:17:56</td>\n",
       "    </tr>\n",
       "    <tr>\n",
       "      <th>6</th>\n",
       "      <td>7</td>\n",
       "      <td>CAN Brand</td>\n",
       "      <td>NaN</td>\n",
       "      <td>NaN</td>\n",
       "      <td>NaN</td>\n",
       "      <td>anshul@canbrand.in</td>\n",
       "      <td>NaN</td>\n",
       "      <td>NaN</td>\n",
       "      <td>2017-03-17 13:39:48</td>\n",
       "      <td>2017-03-17 13:39:48</td>\n",
       "    </tr>\n",
       "    <tr>\n",
       "      <th>7</th>\n",
       "      <td>8</td>\n",
       "      <td>Carveaniche TechLabs Private Limited</td>\n",
       "      <td>NaN</td>\n",
       "      <td>NaN</td>\n",
       "      <td>NaN</td>\n",
       "      <td>munish@cantech.co</td>\n",
       "      <td>9.711354e+09</td>\n",
       "      <td>NaN</td>\n",
       "      <td>2017-03-20 10:06:37</td>\n",
       "      <td>2017-03-20 10:06:37</td>\n",
       "    </tr>\n",
       "    <tr>\n",
       "      <th>8</th>\n",
       "      <td>9</td>\n",
       "      <td>Mystique</td>\n",
       "      <td>NaN</td>\n",
       "      <td>NaN</td>\n",
       "      <td>B 2/13 Mohan Co operative Industrial Estate Ne...</td>\n",
       "      <td>kanishka@mystique.co.in</td>\n",
       "      <td>8.506020e+09</td>\n",
       "      <td>NaN</td>\n",
       "      <td>2017-03-27 18:23:52</td>\n",
       "      <td>2017-04-10 10:54:38</td>\n",
       "    </tr>\n",
       "    <tr>\n",
       "      <th>9</th>\n",
       "      <td>10</td>\n",
       "      <td>Test org</td>\n",
       "      <td>NaN</td>\n",
       "      <td>NaN</td>\n",
       "      <td>NaN</td>\n",
       "      <td>ga8993@gmail.com</td>\n",
       "      <td>NaN</td>\n",
       "      <td>NaN</td>\n",
       "      <td>2017-03-28 08:51:45</td>\n",
       "      <td>2017-03-28 08:51:45</td>\n",
       "    </tr>\n",
       "    <tr>\n",
       "      <th>10</th>\n",
       "      <td>11</td>\n",
       "      <td>Joseph &amp; Joseph</td>\n",
       "      <td>NaN</td>\n",
       "      <td>NaN</td>\n",
       "      <td>NaN</td>\n",
       "      <td>Josephkoshy2206@gmail.com</td>\n",
       "      <td>9.811148e+09</td>\n",
       "      <td>NaN</td>\n",
       "      <td>2017-03-30 12:24:10</td>\n",
       "      <td>2017-03-30 12:24:10</td>\n",
       "    </tr>\n",
       "    <tr>\n",
       "      <th>11</th>\n",
       "      <td>12</td>\n",
       "      <td>Mind Edutainment Pvt. Ltd.</td>\n",
       "      <td>NaN</td>\n",
       "      <td>NaN</td>\n",
       "      <td>NaN</td>\n",
       "      <td>rachita@thotslab.com</td>\n",
       "      <td>9.872206e+09</td>\n",
       "      <td>NaN</td>\n",
       "      <td>2017-04-07 15:41:16</td>\n",
       "      <td>2017-04-07 15:41:16</td>\n",
       "    </tr>\n",
       "    <tr>\n",
       "      <th>12</th>\n",
       "      <td>13</td>\n",
       "      <td>GAZRAJ SECURITY GUARDS PRIVATE LIMITED</td>\n",
       "      <td>NaN</td>\n",
       "      <td>NaN</td>\n",
       "      <td>NaN</td>\n",
       "      <td>ranvijayd.shieldguards@gmail.com</td>\n",
       "      <td>9.999889e+09</td>\n",
       "      <td>NaN</td>\n",
       "      <td>2017-04-10 15:25:55</td>\n",
       "      <td>2017-04-10 15:25:55</td>\n",
       "    </tr>\n",
       "    <tr>\n",
       "      <th>13</th>\n",
       "      <td>14</td>\n",
       "      <td>Stellar Medical</td>\n",
       "      <td>NaN</td>\n",
       "      <td>NaN</td>\n",
       "      <td>NaN</td>\n",
       "      <td>usha@stellarmedical.in</td>\n",
       "      <td>8.800697e+09</td>\n",
       "      <td>NaN</td>\n",
       "      <td>2017-04-21 11:46:41</td>\n",
       "      <td>2017-04-21 11:46:41</td>\n",
       "    </tr>\n",
       "    <tr>\n",
       "      <th>14</th>\n",
       "      <td>15</td>\n",
       "      <td>Discvr Innovations Plt Ltd</td>\n",
       "      <td>NaN</td>\n",
       "      <td>NaN</td>\n",
       "      <td>NaN</td>\n",
       "      <td>munish@discvr.in</td>\n",
       "      <td>9.013268e+09</td>\n",
       "      <td>NaN</td>\n",
       "      <td>2017-04-27 15:25:33</td>\n",
       "      <td>2017-04-27 15:25:33</td>\n",
       "    </tr>\n",
       "  </tbody>\n",
       "</table>\n",
       "</div>"
      ],
      "text/plain": [
       "    id                                    name     entity_type  \\\n",
       "0    1                              Growthfile  proprietorship   \n",
       "1    2                          Simplifii Labs             NaN   \n",
       "2    3                            Puja Capital             NaN   \n",
       "3    4                                org name             NaN   \n",
       "4    5            Avon Beauty Products Pvt Ltd             NaN   \n",
       "5    6                               Tax Sutra             NaN   \n",
       "6    7                               CAN Brand             NaN   \n",
       "7    8    Carveaniche TechLabs Private Limited             NaN   \n",
       "8    9                                Mystique             NaN   \n",
       "9   10                               Test org              NaN   \n",
       "10  11                         Joseph & Joseph             NaN   \n",
       "11  12              Mind Edutainment Pvt. Ltd.             NaN   \n",
       "12  13  GAZRAJ SECURITY GUARDS PRIVATE LIMITED             NaN   \n",
       "13  14                        Stellar Medical              NaN   \n",
       "14  15              Discvr Innovations Plt Ltd             NaN   \n",
       "\n",
       "                                    logo  \\\n",
       "0   http://lorempixel.com/500/500/?37735   \n",
       "1                                    NaN   \n",
       "2                                    NaN   \n",
       "3                                    NaN   \n",
       "4                                    NaN   \n",
       "5                                    NaN   \n",
       "6                                    NaN   \n",
       "7                                    NaN   \n",
       "8                                    NaN   \n",
       "9                                    NaN   \n",
       "10                                   NaN   \n",
       "11                                   NaN   \n",
       "12                                   NaN   \n",
       "13                                   NaN   \n",
       "14                                   NaN   \n",
       "\n",
       "                                              address  \\\n",
       "0                                                 NaN   \n",
       "1                                             ghkjhbj   \n",
       "2                     D 90, First Floor, Saket 110017   \n",
       "3                                                 NaN   \n",
       "4                                                 NaN   \n",
       "5                                                 NaN   \n",
       "6                                                 NaN   \n",
       "7                                                 NaN   \n",
       "8   B 2/13 Mohan Co operative Industrial Estate Ne...   \n",
       "9                                                 NaN   \n",
       "10                                                NaN   \n",
       "11                                                NaN   \n",
       "12                                                NaN   \n",
       "13                                                NaN   \n",
       "14                                                NaN   \n",
       "\n",
       "                contact_person_email  contact_person_mobile  creator  \\\n",
       "0              pujacapital@gmail.com                    NaN      NaN   \n",
       "1             chandresh989@gmail.com           7.576779e+09      NaN   \n",
       "2             kiran.murthi@gmail.com           9.811580e+09      NaN   \n",
       "3              mxsingh15+4@gmail.com                    NaN      NaN   \n",
       "4                divya.paul@avon.com           9.717168e+09      NaN   \n",
       "5             kalpana.j@taxsutra.com           9.820047e+09      NaN   \n",
       "6                 anshul@canbrand.in                    NaN      NaN   \n",
       "7                  munish@cantech.co           9.711354e+09      NaN   \n",
       "8            kanishka@mystique.co.in           8.506020e+09      NaN   \n",
       "9                   ga8993@gmail.com                    NaN      NaN   \n",
       "10         Josephkoshy2206@gmail.com           9.811148e+09      NaN   \n",
       "11              rachita@thotslab.com           9.872206e+09      NaN   \n",
       "12  ranvijayd.shieldguards@gmail.com           9.999889e+09      NaN   \n",
       "13            usha@stellarmedical.in           8.800697e+09      NaN   \n",
       "14                  munish@discvr.in           9.013268e+09      NaN   \n",
       "\n",
       "             created_at           updated_at  \n",
       "0   2017-02-28 00:20:10  2017-02-28 00:20:10  \n",
       "1   2017-02-28 00:32:02  2017-03-28 17:55:02  \n",
       "2   2017-02-28 01:09:17  2017-02-28 07:14:28  \n",
       "3   2017-03-14 15:56:38  2017-03-14 15:56:38  \n",
       "4   2017-03-14 19:15:08  2017-03-14 19:15:08  \n",
       "5   2017-03-17 11:17:56  2017-03-17 11:17:56  \n",
       "6   2017-03-17 13:39:48  2017-03-17 13:39:48  \n",
       "7   2017-03-20 10:06:37  2017-03-20 10:06:37  \n",
       "8   2017-03-27 18:23:52  2017-04-10 10:54:38  \n",
       "9   2017-03-28 08:51:45  2017-03-28 08:51:45  \n",
       "10  2017-03-30 12:24:10  2017-03-30 12:24:10  \n",
       "11  2017-04-07 15:41:16  2017-04-07 15:41:16  \n",
       "12  2017-04-10 15:25:55  2017-04-10 15:25:55  \n",
       "13  2017-04-21 11:46:41  2017-04-21 11:46:41  \n",
       "14  2017-04-27 15:25:33  2017-04-27 15:25:33  "
      ]
     },
     "execution_count": 2,
     "metadata": {},
     "output_type": "execute_result"
    }
   ],
   "source": [
    "org=pd.read_csv(\"C:\\\\Users\\\\SOUMIK\\\\Desktop\\\\Database\\\\27_4_17\\\\org.csv\", delimiter=',')\n",
    "org"
   ]
  },
  {
   "cell_type": "code",
   "execution_count": 5,
   "metadata": {
    "collapsed": false
   },
   "outputs": [
    {
     "data": {
      "text/plain": [
       "datetime.datetime(2017, 2, 28, 0, 20, 10)"
      ]
     },
     "execution_count": 5,
     "metadata": {},
     "output_type": "execute_result"
    }
   ],
   "source": [
    "from datetime import datetime\n",
    "datetime.strptime(org.ix[0,'created_at'], '%Y-%m-%d %H:%M:%S')"
   ]
  },
  {
   "cell_type": "code",
   "execution_count": 6,
   "metadata": {
    "collapsed": false
   },
   "outputs": [
    {
     "name": "stdout",
     "output_type": "stream",
     "text": [
      "False\n",
      "False\n",
      "False\n",
      "False\n",
      "False\n",
      "False\n",
      "False\n",
      "False\n",
      "False\n",
      "False\n",
      "False\n",
      "False\n",
      "False\n",
      "False\n",
      "False\n"
     ]
    }
   ],
   "source": [
    "from datetime import datetime\n",
    "today=datetime.today()\n",
    "\n",
    "for i in range(len(org)):\n",
    "    x=datetime.strptime(org.ix[i,'created_at'], '%Y-%m-%d %H:%M:%S')\n",
    "    if(today<x):\n",
    "        print(True)\n",
    "    else:\n",
    "        print(False)"
   ]
  },
  {
   "cell_type": "code",
   "execution_count": null,
   "metadata": {
    "collapsed": false
   },
   "outputs": [],
   "source": [
    "user=pd.read_csv(\"C:\\\\Users\\\\SOUMIK\\\\Desktop\\\\Database\\\\27_4_17\\\\users.csv\", delimiter=',')\n",
    "user.head()"
   ]
  },
  {
   "cell_type": "code",
   "execution_count": null,
   "metadata": {
    "collapsed": false
   },
   "outputs": [],
   "source": [
    "update=pd.read_csv(\"C:\\\\Users\\\\SOUMIK\\\\Desktop\\\\Database\\\\27_4_17\\\\marked_locations.csv\", delimiter=',')\n",
    "update.head()"
   ]
  },
  {
   "cell_type": "code",
   "execution_count": null,
   "metadata": {
    "collapsed": false
   },
   "outputs": [],
   "source": [
    "user.columns"
   ]
  },
  {
   "cell_type": "code",
   "execution_count": null,
   "metadata": {
    "collapsed": false,
    "scrolled": true
   },
   "outputs": [],
   "source": [
    "string1='select * from user where org_id=13'\n",
    "x=pdsql.sqldf(string1)\n",
    "y=pd.to_csv(\"C:\\\\Users\\SOUMIK\\\\Desktop\\\\Excel Folder\\\\users_27-04-2017\")"
   ]
  },
  {
   "cell_type": "code",
   "execution_count": null,
   "metadata": {
    "collapsed": false
   },
   "outputs": [],
   "source": [
    "update.columns=['id','update']\n",
    "update.id.unique()"
   ]
  },
  {
   "cell_type": "code",
   "execution_count": null,
   "metadata": {
    "collapsed": false
   },
   "outputs": [],
   "source": [
    "table=pd.merge(update, x, how='left', on=['id','id'])"
   ]
  },
  {
   "cell_type": "code",
   "execution_count": null,
   "metadata": {
    "collapsed": false
   },
   "outputs": [],
   "source": [
    "table"
   ]
  },
  {
   "cell_type": "code",
   "execution_count": null,
   "metadata": {
    "collapsed": false
   },
   "outputs": [],
   "source": [
    "pd.value_counts(table.org_id)"
   ]
  },
  {
   "cell_type": "code",
   "execution_count": null,
   "metadata": {
    "collapsed": false
   },
   "outputs": [],
   "source": [
    "update.shape"
   ]
  },
  {
   "cell_type": "code",
   "execution_count": null,
   "metadata": {
    "collapsed": true
   },
   "outputs": [],
   "source": []
  }
 ],
 "metadata": {
  "anaconda-cloud": {},
  "kernelspec": {
   "display_name": "Python [default]",
   "language": "python",
   "name": "python3"
  },
  "language_info": {
   "codemirror_mode": {
    "name": "ipython",
    "version": 3
   },
   "file_extension": ".py",
   "mimetype": "text/x-python",
   "name": "python",
   "nbconvert_exporter": "python",
   "pygments_lexer": "ipython3",
   "version": "3.5.2"
  }
 },
 "nbformat": 4,
 "nbformat_minor": 1
}
